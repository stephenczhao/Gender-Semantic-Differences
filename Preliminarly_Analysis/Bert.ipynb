{
 "cells": [
  {
   "cell_type": "markdown",
   "metadata": {},
   "source": [
    "![AI Gender Bias](./gender_bias.png)\n"
   ]
  },
  {
   "cell_type": "markdown",
   "metadata": {},
   "source": [
    "# Semantic Embedding and Distances using Transformers: Assessing Gender Consistency in Directional and Magnitudinal Embedding Spaces"
   ]
  },
  {
   "cell_type": "markdown",
   "metadata": {},
   "source": [
    "## Introduction\n",
    "\n",
    "In the rapidly advancing field of Natural Language Processing (NLP), semantic embeddings have emerged as a cornerstone for a multitude of applications, enabling machines to grasp complex human language nuances. These embeddings, which translate words into high-dimensional vectors, are pivotal for assessing semantic similarity—how closely the meanings of words relate to each other within a given linguistic context. A particularly intriguing area of study within semantic embeddings is the exploration of how gender dimensions are represented and whether there is an inherent bias in these representations.\n",
    "\n",
    "This research delves into the gendered landscape of semantic embeddings, focusing on the hypothesis that the gender opposition of the same concept is reflected in a consistent pattern within the vector space. By comparing word pairs that signify the same concept but differ in gender - such as \"waitress\" vs. \"waiter\" or \"actor\" vs. \"actress\" — this study examines both the directional and magnitudinal similarities in their respective word vectors. The consistency of these dimensions could unveil systematic patterns in how gendered language is encoded within word embeddings, potentially shedding light on latent biases. [Previous studies](https://arxiv.org/pdf/2206.03390.pdf#:~:text=Specifically%2C%20of%20the%20top%201%2C000,55%25%20are%20associated%20with%20men.) have explored aspects of gender bias in semantic embeddings, providing a foundation upon which this research builds. The goal is to offer a deeper understanding of gender representation in semantic spaces, contributing to the ongoing conversation on fairness and equality in AI models."
   ]
  },
  {
   "cell_type": "markdown",
   "metadata": {},
   "source": [
    "## Research Question\n",
    "\n",
    "The investigation at the heart of this study is encapsulated in the research question: How consistent are the directional and magnitudinal differences between word embeddings for gender-specific pairs across various semantic concepts? This question seeks to quantitatively unravel the gender dimensions encoded within word embeddings, focusing specifically on whether the embedded vectors of gender-opposite words representing the same concept exhibit a standard distance and orientation in the semantic vector space.\n",
    "\n",
    "To elucidate this further, the research examines the extent to which the semantic similarity (or rather, dissimilarity), as captured by cosine and Euclidean distances, between male and female word pairs such as \"actor\" and \"actress\" or \"king\" and \"queen\", remains constant across different concepts. The analysis of this consistency could provide pivotal insights into the structural biases of word embeddings and their implications for gender representation in automated language processing. The exploration is grounded in the hypothesis that the gender difference of a concept is represented by roughly equivalent distances in the embedding space, implying a uniformity in how NLP models process gendered language. "
   ]
  },
  {
   "cell_type": "markdown",
   "metadata": {},
   "source": [
    "## Data Overview\n",
    "\n",
    "- **Dataset Source and Credibility**: Utilizes a [licensed dataset from WordNet](https://github.com/ecmonsen/gendered_words/tree/master), ensuring high credibility and reliability for the linguistic data foundational to the study.\n",
    "  \n",
    "- **Dataset Composition**:\n",
    "  - **Total Words**: Comprises 6,923 words, each carefully annotated with gender designations:\n",
    "    - 'f' for female\n",
    "    - 'm' for male\n",
    "    - 'n' for gender-neutral\n",
    "  - These designations reflect the natural gender of the person or type of person to which the word refers.\n",
    "\n",
    "- **Additional Features**:\n",
    "  - **Gender Map Column**: Includes a 'gender_map' column that links words to others of different genders, facilitating deeper exploration of gender-based linguistic relationships.\n",
    "  - **Wordnet Senseno**: Although the dataset includes a 'wordnet_senseno' column for referencing additional lexical information from WordNet, this detail will not be used in the analysis.\n",
    "\n",
    "- **Data Processing and Analysis Focus**:\n",
    "  - **Data Conversion**: Plans to convert the JSON file format into a tabular format using pandas DataFrames.\n",
    "  - **Analysis Focus**: Emphasizes the analysis on the 'word' and 'gender' columns, aiming for a nuanced examination of gender representation across the dataset."
   ]
  },
  {
   "cell_type": "markdown",
   "metadata": {},
   "source": [
    "## Data Preperation"
   ]
  },
  {
   "cell_type": "markdown",
   "metadata": {},
   "source": [
    "Importing necessary libraries and loading the dataset into a pandas DataFrame for further analysis."
   ]
  },
  {
   "cell_type": "code",
   "execution_count": 11,
   "metadata": {},
   "outputs": [
    {
     "data": {
      "text/html": [
       "<div>\n",
       "<style scoped>\n",
       "    .dataframe tbody tr th:only-of-type {\n",
       "        vertical-align: middle;\n",
       "    }\n",
       "\n",
       "    .dataframe tbody tr th {\n",
       "        vertical-align: top;\n",
       "    }\n",
       "\n",
       "    .dataframe thead th {\n",
       "        text-align: right;\n",
       "    }\n",
       "</style>\n",
       "<table border=\"1\" class=\"dataframe\">\n",
       "  <thead>\n",
       "    <tr style=\"text-align: right;\">\n",
       "      <th></th>\n",
       "      <th>word</th>\n",
       "      <th>wordnet_senseno</th>\n",
       "      <th>gender</th>\n",
       "      <th>gender_map</th>\n",
       "    </tr>\n",
       "  </thead>\n",
       "  <tbody>\n",
       "    <tr>\n",
       "      <th>0</th>\n",
       "      <td>abandoned_person</td>\n",
       "      <td>abandoned_person.n.01</td>\n",
       "      <td>n</td>\n",
       "      <td>NaN</td>\n",
       "    </tr>\n",
       "    <tr>\n",
       "      <th>1</th>\n",
       "      <td>abator</td>\n",
       "      <td>abator.n.01</td>\n",
       "      <td>n</td>\n",
       "      <td>NaN</td>\n",
       "    </tr>\n",
       "    <tr>\n",
       "      <th>2</th>\n",
       "      <td>abbe</td>\n",
       "      <td>abbe.n.01</td>\n",
       "      <td>n</td>\n",
       "      <td>NaN</td>\n",
       "    </tr>\n",
       "    <tr>\n",
       "      <th>3</th>\n",
       "      <td>abbess</td>\n",
       "      <td>abbess.n.01</td>\n",
       "      <td>f</td>\n",
       "      <td>{'m': [{'parts_of_speech': '*', 'word': 'abbot...</td>\n",
       "    </tr>\n",
       "    <tr>\n",
       "      <th>4</th>\n",
       "      <td>abbot</td>\n",
       "      <td>abbot.n.01</td>\n",
       "      <td>m</td>\n",
       "      <td>NaN</td>\n",
       "    </tr>\n",
       "    <tr>\n",
       "      <th>...</th>\n",
       "      <td>...</td>\n",
       "      <td>...</td>\n",
       "      <td>...</td>\n",
       "      <td>...</td>\n",
       "    </tr>\n",
       "    <tr>\n",
       "      <th>6918</th>\n",
       "      <td>zoo_keeper</td>\n",
       "      <td>zoo_keeper.n.01</td>\n",
       "      <td>n</td>\n",
       "      <td>NaN</td>\n",
       "    </tr>\n",
       "    <tr>\n",
       "      <th>6919</th>\n",
       "      <td>zoologist</td>\n",
       "      <td>zoologist.n.01</td>\n",
       "      <td>n</td>\n",
       "      <td>NaN</td>\n",
       "    </tr>\n",
       "    <tr>\n",
       "      <th>6920</th>\n",
       "      <td>zoroastrian</td>\n",
       "      <td>zoroastrian.n.01</td>\n",
       "      <td>n</td>\n",
       "      <td>NaN</td>\n",
       "    </tr>\n",
       "    <tr>\n",
       "      <th>6921</th>\n",
       "      <td>zulu</td>\n",
       "      <td>zulu.n.01</td>\n",
       "      <td>n</td>\n",
       "      <td>NaN</td>\n",
       "    </tr>\n",
       "    <tr>\n",
       "      <th>6922</th>\n",
       "      <td>zuni</td>\n",
       "      <td>zuni.n.01</td>\n",
       "      <td>n</td>\n",
       "      <td>NaN</td>\n",
       "    </tr>\n",
       "  </tbody>\n",
       "</table>\n",
       "<p>6923 rows × 4 columns</p>\n",
       "</div>"
      ],
      "text/plain": [
       "                  word        wordnet_senseno gender  \\\n",
       "0     abandoned_person  abandoned_person.n.01      n   \n",
       "1               abator            abator.n.01      n   \n",
       "2                 abbe              abbe.n.01      n   \n",
       "3               abbess            abbess.n.01      f   \n",
       "4                abbot             abbot.n.01      m   \n",
       "...                ...                    ...    ...   \n",
       "6918        zoo_keeper        zoo_keeper.n.01      n   \n",
       "6919         zoologist         zoologist.n.01      n   \n",
       "6920       zoroastrian       zoroastrian.n.01      n   \n",
       "6921              zulu              zulu.n.01      n   \n",
       "6922              zuni              zuni.n.01      n   \n",
       "\n",
       "                                             gender_map  \n",
       "0                                                   NaN  \n",
       "1                                                   NaN  \n",
       "2                                                   NaN  \n",
       "3     {'m': [{'parts_of_speech': '*', 'word': 'abbot...  \n",
       "4                                                   NaN  \n",
       "...                                                 ...  \n",
       "6918                                                NaN  \n",
       "6919                                                NaN  \n",
       "6920                                                NaN  \n",
       "6921                                                NaN  \n",
       "6922                                                NaN  \n",
       "\n",
       "[6923 rows x 4 columns]"
      ]
     },
     "execution_count": 11,
     "metadata": {},
     "output_type": "execute_result"
    }
   ],
   "source": [
    "import pandas as pd\n",
    "import numpy as np\n",
    "import seaborn as sns\n",
    "import matplotlib.pyplot as plt\n",
    "\n",
    "\n",
    "# Specify the file path\n",
    "file_path = \"./gendered_words.json\"\n",
    "\n",
    "# Read the JSON file into a DataFrame\n",
    "df = pd.read_json(file_path)\n",
    "\n",
    "# Display the DataFrame\n",
    "df\n"
   ]
  },
  {
   "cell_type": "markdown",
   "metadata": {},
   "source": [
    "Further extract columns from the gender_map column: alt_word and alt_gender. This essentially matches words with their opposite gender counterparts, providing a foundation for the subsequent analysis"
   ]
  },
  {
   "cell_type": "code",
   "execution_count": 12,
   "metadata": {},
   "outputs": [
    {
     "data": {
      "text/html": [
       "<div>\n",
       "<style scoped>\n",
       "    .dataframe tbody tr th:only-of-type {\n",
       "        vertical-align: middle;\n",
       "    }\n",
       "\n",
       "    .dataframe tbody tr th {\n",
       "        vertical-align: top;\n",
       "    }\n",
       "\n",
       "    .dataframe thead th {\n",
       "        text-align: right;\n",
       "    }\n",
       "</style>\n",
       "<table border=\"1\" class=\"dataframe\">\n",
       "  <thead>\n",
       "    <tr style=\"text-align: right;\">\n",
       "      <th></th>\n",
       "      <th>word</th>\n",
       "      <th>gender</th>\n",
       "      <th>alt_gender</th>\n",
       "      <th>alt_word</th>\n",
       "    </tr>\n",
       "  </thead>\n",
       "  <tbody>\n",
       "    <tr>\n",
       "      <th>0</th>\n",
       "      <td>abbess</td>\n",
       "      <td>f</td>\n",
       "      <td>m</td>\n",
       "      <td>abbot</td>\n",
       "    </tr>\n",
       "    <tr>\n",
       "      <th>1</th>\n",
       "      <td>able_seaman</td>\n",
       "      <td>m</td>\n",
       "      <td>f</td>\n",
       "      <td>able_seawoman</td>\n",
       "    </tr>\n",
       "    <tr>\n",
       "      <th>2</th>\n",
       "      <td>actress</td>\n",
       "      <td>f</td>\n",
       "      <td>m</td>\n",
       "      <td>actor</td>\n",
       "    </tr>\n",
       "    <tr>\n",
       "      <th>3</th>\n",
       "      <td>adulteress</td>\n",
       "      <td>f</td>\n",
       "      <td>m</td>\n",
       "      <td>adulterer</td>\n",
       "    </tr>\n",
       "    <tr>\n",
       "      <th>4</th>\n",
       "      <td>adventuress</td>\n",
       "      <td>f</td>\n",
       "      <td>m</td>\n",
       "      <td>adventurer</td>\n",
       "    </tr>\n",
       "    <tr>\n",
       "      <th>...</th>\n",
       "      <td>...</td>\n",
       "      <td>...</td>\n",
       "      <td>...</td>\n",
       "      <td>...</td>\n",
       "    </tr>\n",
       "    <tr>\n",
       "      <th>499</th>\n",
       "      <td>yachtsman</td>\n",
       "      <td>m</td>\n",
       "      <td>f</td>\n",
       "      <td>yachtswoman</td>\n",
       "    </tr>\n",
       "    <tr>\n",
       "      <th>500</th>\n",
       "      <td>yardman</td>\n",
       "      <td>m</td>\n",
       "      <td>f</td>\n",
       "      <td>yardwoman</td>\n",
       "    </tr>\n",
       "    <tr>\n",
       "      <th>501</th>\n",
       "      <td>yellow_man</td>\n",
       "      <td>m</td>\n",
       "      <td>f</td>\n",
       "      <td>yellow_woman</td>\n",
       "    </tr>\n",
       "    <tr>\n",
       "      <th>502</th>\n",
       "      <td>yellow_woman</td>\n",
       "      <td>f</td>\n",
       "      <td>m</td>\n",
       "      <td>yellow_man</td>\n",
       "    </tr>\n",
       "    <tr>\n",
       "      <th>503</th>\n",
       "      <td>yeoman</td>\n",
       "      <td>m</td>\n",
       "      <td>f</td>\n",
       "      <td>yeowoman</td>\n",
       "    </tr>\n",
       "  </tbody>\n",
       "</table>\n",
       "<p>504 rows × 4 columns</p>\n",
       "</div>"
      ],
      "text/plain": [
       "             word gender alt_gender       alt_word\n",
       "0          abbess      f          m          abbot\n",
       "1     able_seaman      m          f  able_seawoman\n",
       "2         actress      f          m          actor\n",
       "3      adulteress      f          m      adulterer\n",
       "4     adventuress      f          m     adventurer\n",
       "..            ...    ...        ...            ...\n",
       "499     yachtsman      m          f    yachtswoman\n",
       "500       yardman      m          f      yardwoman\n",
       "501    yellow_man      m          f   yellow_woman\n",
       "502  yellow_woman      f          m     yellow_man\n",
       "503        yeoman      m          f       yeowoman\n",
       "\n",
       "[504 rows x 4 columns]"
      ]
     },
     "execution_count": 12,
     "metadata": {},
     "output_type": "execute_result"
    }
   ],
   "source": [
    "df = df.dropna(subset=['gender_map'])\n",
    "def extract_info(row):\n",
    "    for gender, details in row.items():\n",
    "        return pd.Series({\n",
    "            'alt_gender': gender,\n",
    "            'alt_word': details[0]['word']\n",
    "        })\n",
    "expanded_data = df['gender_map'].apply(extract_info)\n",
    "df = df.join(expanded_data)\n",
    "\n",
    "df.drop_duplicates(subset='word', inplace=True) # dropping duplicates\n",
    "df.reset_index(drop=True, inplace=True)\n",
    "df.drop(columns=['gender_map', 'wordnet_senseno'], inplace=True)\n",
    "\n",
    "df"
   ]
  },
  {
   "cell_type": "markdown",
   "metadata": {},
   "source": [
    "Further reducing duplicates in the dataset by removing rows where the word is the same as the alt_word. This step ensures that the subsequent nlp word vectorization, which is a computationally intensive process, is not redundant."
   ]
  },
  {
   "cell_type": "code",
   "execution_count": 13,
   "metadata": {},
   "outputs": [
    {
     "data": {
      "text/html": [
       "<div>\n",
       "<style scoped>\n",
       "    .dataframe tbody tr th:only-of-type {\n",
       "        vertical-align: middle;\n",
       "    }\n",
       "\n",
       "    .dataframe tbody tr th {\n",
       "        vertical-align: top;\n",
       "    }\n",
       "\n",
       "    .dataframe thead th {\n",
       "        text-align: right;\n",
       "    }\n",
       "</style>\n",
       "<table border=\"1\" class=\"dataframe\">\n",
       "  <thead>\n",
       "    <tr style=\"text-align: right;\">\n",
       "      <th></th>\n",
       "      <th>word</th>\n",
       "      <th>gender</th>\n",
       "      <th>alt_word</th>\n",
       "      <th>alt_gender</th>\n",
       "    </tr>\n",
       "  </thead>\n",
       "  <tbody>\n",
       "    <tr>\n",
       "      <th>0</th>\n",
       "      <td>abbess</td>\n",
       "      <td>f</td>\n",
       "      <td>abbot</td>\n",
       "      <td>m</td>\n",
       "    </tr>\n",
       "    <tr>\n",
       "      <th>1</th>\n",
       "      <td>able_seaman</td>\n",
       "      <td>m</td>\n",
       "      <td>able_seawoman</td>\n",
       "      <td>f</td>\n",
       "    </tr>\n",
       "    <tr>\n",
       "      <th>2</th>\n",
       "      <td>actress</td>\n",
       "      <td>f</td>\n",
       "      <td>actor</td>\n",
       "      <td>m</td>\n",
       "    </tr>\n",
       "    <tr>\n",
       "      <th>3</th>\n",
       "      <td>adulteress</td>\n",
       "      <td>f</td>\n",
       "      <td>adulterer</td>\n",
       "      <td>m</td>\n",
       "    </tr>\n",
       "    <tr>\n",
       "      <th>4</th>\n",
       "      <td>adventuress</td>\n",
       "      <td>f</td>\n",
       "      <td>adventurer</td>\n",
       "      <td>m</td>\n",
       "    </tr>\n",
       "    <tr>\n",
       "      <th>...</th>\n",
       "      <td>...</td>\n",
       "      <td>...</td>\n",
       "      <td>...</td>\n",
       "      <td>...</td>\n",
       "    </tr>\n",
       "    <tr>\n",
       "      <th>355</th>\n",
       "      <td>working_girl</td>\n",
       "      <td>f</td>\n",
       "      <td>working_boy</td>\n",
       "      <td>m</td>\n",
       "    </tr>\n",
       "    <tr>\n",
       "      <th>356</th>\n",
       "      <td>workman</td>\n",
       "      <td>m</td>\n",
       "      <td>workwoman</td>\n",
       "      <td>f</td>\n",
       "    </tr>\n",
       "    <tr>\n",
       "      <th>357</th>\n",
       "      <td>yachtsman</td>\n",
       "      <td>m</td>\n",
       "      <td>yachtswoman</td>\n",
       "      <td>f</td>\n",
       "    </tr>\n",
       "    <tr>\n",
       "      <th>358</th>\n",
       "      <td>yardman</td>\n",
       "      <td>m</td>\n",
       "      <td>yardwoman</td>\n",
       "      <td>f</td>\n",
       "    </tr>\n",
       "    <tr>\n",
       "      <th>359</th>\n",
       "      <td>yeoman</td>\n",
       "      <td>m</td>\n",
       "      <td>yeowoman</td>\n",
       "      <td>f</td>\n",
       "    </tr>\n",
       "  </tbody>\n",
       "</table>\n",
       "<p>360 rows × 4 columns</p>\n",
       "</div>"
      ],
      "text/plain": [
       "             word gender       alt_word alt_gender\n",
       "0          abbess      f          abbot          m\n",
       "1     able_seaman      m  able_seawoman          f\n",
       "2         actress      f          actor          m\n",
       "3      adulteress      f      adulterer          m\n",
       "4     adventuress      f     adventurer          m\n",
       "..            ...    ...            ...        ...\n",
       "355  working_girl      f    working_boy          m\n",
       "356       workman      m      workwoman          f\n",
       "357     yachtsman      m    yachtswoman          f\n",
       "358       yardman      m      yardwoman          f\n",
       "359        yeoman      m       yeowoman          f\n",
       "\n",
       "[360 rows x 4 columns]"
      ]
     },
     "execution_count": 13,
     "metadata": {},
     "output_type": "execute_result"
    }
   ],
   "source": [
    "df = df[~df['word'].isin(df['alt_word'])]\n",
    "df = df.reindex(columns=['word', 'gender', 'alt_word', 'alt_gender']).reset_index(drop=True)\n",
    "df"
   ]
  },
  {
   "cell_type": "markdown",
   "metadata": {},
   "source": [
    "Check if every word has a corresponding alt_word with the opposite gender. "
   ]
  },
  {
   "cell_type": "code",
   "execution_count": 14,
   "metadata": {},
   "outputs": [
    {
     "data": {
      "text/plain": [
       "True"
      ]
     },
     "execution_count": 14,
     "metadata": {},
     "output_type": "execute_result"
    }
   ],
   "source": [
    "check = (df['gender'] == 'f') & (df['alt_gender'] == 'm') | (df['gender'] == 'm') & (df['alt_gender'] == 'f')\n",
    "check.all()"
   ]
  },
  {
   "cell_type": "markdown",
   "metadata": {},
   "source": [
    "Demonstratino of Spacy (Non-transformer) word vectorization capabilities against a transformer-based model"
   ]
  },
  {
   "cell_type": "code",
   "execution_count": 15,
   "metadata": {},
   "outputs": [
    {
     "name": "stdout",
     "output_type": "stream",
     "text": [
      "Model is successfully loaded.\n"
     ]
    }
   ],
   "source": [
    "import spacy\n",
    "import spacy.cli\n",
    "\n",
    "# Ensure that model isn't installed repeatedly\n",
    "try:\n",
    "    # Try to load the model to see if it's already installed\n",
    "    nlp = spacy.load(\"en_core_web_lg\")\n",
    "    print(\"Model is successfully loaded.\")\n",
    "except OSError:\n",
    "    # If the model is not installed, download it\n",
    "    print(\"Model not found. Downloading now...\")\n",
    "    spacy.cli.download(\"en_core_web_lg\")\n",
    "    print(\"Model is successfully loaded.\")"
   ]
  },
  {
   "cell_type": "code",
   "execution_count": 16,
   "metadata": {},
   "outputs": [
    {
     "data": {
      "text/html": [
       "<div>\n",
       "<style scoped>\n",
       "    .dataframe tbody tr th:only-of-type {\n",
       "        vertical-align: middle;\n",
       "    }\n",
       "\n",
       "    .dataframe tbody tr th {\n",
       "        vertical-align: top;\n",
       "    }\n",
       "\n",
       "    .dataframe thead th {\n",
       "        text-align: right;\n",
       "    }\n",
       "</style>\n",
       "<table border=\"1\" class=\"dataframe\">\n",
       "  <thead>\n",
       "    <tr style=\"text-align: right;\">\n",
       "      <th></th>\n",
       "      <th>word</th>\n",
       "      <th>gender</th>\n",
       "      <th>alt_word</th>\n",
       "      <th>alt_gender</th>\n",
       "      <th>word_vector</th>\n",
       "      <th>alt_word_vector</th>\n",
       "    </tr>\n",
       "  </thead>\n",
       "  <tbody>\n",
       "    <tr>\n",
       "      <th>0</th>\n",
       "      <td>abbess</td>\n",
       "      <td>f</td>\n",
       "      <td>abbot</td>\n",
       "      <td>m</td>\n",
       "      <td>[-0.055308, -4.1129, 0.13099, -0.66051, -0.074...</td>\n",
       "      <td>[-2.4365, -5.7415, -0.18164, 0.86196, 0.56676,...</td>\n",
       "    </tr>\n",
       "    <tr>\n",
       "      <th>1</th>\n",
       "      <td>able_seaman</td>\n",
       "      <td>m</td>\n",
       "      <td>able_seawoman</td>\n",
       "      <td>f</td>\n",
       "      <td>[0.0, 0.0, 0.0, 0.0, 0.0, 0.0, 0.0, 0.0, 0.0, ...</td>\n",
       "      <td>[0.0, 0.0, 0.0, 0.0, 0.0, 0.0, 0.0, 0.0, 0.0, ...</td>\n",
       "    </tr>\n",
       "    <tr>\n",
       "      <th>2</th>\n",
       "      <td>actress</td>\n",
       "      <td>f</td>\n",
       "      <td>actor</td>\n",
       "      <td>m</td>\n",
       "      <td>[-0.19423, 1.952, -1.9048, -4.79, -0.63103, 0....</td>\n",
       "      <td>[-2.2196, 0.825, -1.2274, -3.7514, -0.51313, 1...</td>\n",
       "    </tr>\n",
       "    <tr>\n",
       "      <th>3</th>\n",
       "      <td>adulteress</td>\n",
       "      <td>f</td>\n",
       "      <td>adulterer</td>\n",
       "      <td>m</td>\n",
       "      <td>[0.15472, -0.64138, -1.5163, -1.8773, 0.92957,...</td>\n",
       "      <td>[-0.8278, -1.0626, -0.70223, -1.6146, 1.5188, ...</td>\n",
       "    </tr>\n",
       "    <tr>\n",
       "      <th>4</th>\n",
       "      <td>adventuress</td>\n",
       "      <td>f</td>\n",
       "      <td>adventurer</td>\n",
       "      <td>m</td>\n",
       "      <td>[-0.70933, 0.13014, 0.046859, -3.7926, -0.8595...</td>\n",
       "      <td>[-0.05648, -0.19939, 1.4233, -4.7611, -1.5092,...</td>\n",
       "    </tr>\n",
       "    <tr>\n",
       "      <th>...</th>\n",
       "      <td>...</td>\n",
       "      <td>...</td>\n",
       "      <td>...</td>\n",
       "      <td>...</td>\n",
       "      <td>...</td>\n",
       "      <td>...</td>\n",
       "    </tr>\n",
       "    <tr>\n",
       "      <th>355</th>\n",
       "      <td>working_girl</td>\n",
       "      <td>f</td>\n",
       "      <td>working_boy</td>\n",
       "      <td>m</td>\n",
       "      <td>[0.0, 0.0, 0.0, 0.0, 0.0, 0.0, 0.0, 0.0, 0.0, ...</td>\n",
       "      <td>[0.0, 0.0, 0.0, 0.0, 0.0, 0.0, 0.0, 0.0, 0.0, ...</td>\n",
       "    </tr>\n",
       "    <tr>\n",
       "      <th>356</th>\n",
       "      <td>workman</td>\n",
       "      <td>m</td>\n",
       "      <td>workwoman</td>\n",
       "      <td>f</td>\n",
       "      <td>[-2.3501, -1.2634, -1.299, -1.1481, 1.0886, -2...</td>\n",
       "      <td>[0.0, 0.0, 0.0, 0.0, 0.0, 0.0, 0.0, 0.0, 0.0, ...</td>\n",
       "    </tr>\n",
       "    <tr>\n",
       "      <th>357</th>\n",
       "      <td>yachtsman</td>\n",
       "      <td>m</td>\n",
       "      <td>yachtswoman</td>\n",
       "      <td>f</td>\n",
       "      <td>[-1.479, -0.47629, 1.3346, -1.8885, -0.28168, ...</td>\n",
       "      <td>[0.0, 0.0, 0.0, 0.0, 0.0, 0.0, 0.0, 0.0, 0.0, ...</td>\n",
       "    </tr>\n",
       "    <tr>\n",
       "      <th>358</th>\n",
       "      <td>yardman</td>\n",
       "      <td>m</td>\n",
       "      <td>yardwoman</td>\n",
       "      <td>f</td>\n",
       "      <td>[0.0, 0.0, 0.0, 0.0, 0.0, 0.0, 0.0, 0.0, 0.0, ...</td>\n",
       "      <td>[0.0, 0.0, 0.0, 0.0, 0.0, 0.0, 0.0, 0.0, 0.0, ...</td>\n",
       "    </tr>\n",
       "    <tr>\n",
       "      <th>359</th>\n",
       "      <td>yeoman</td>\n",
       "      <td>m</td>\n",
       "      <td>yeowoman</td>\n",
       "      <td>f</td>\n",
       "      <td>[-2.2688, -1.4787, 0.69975, 0.61817, 0.59453, ...</td>\n",
       "      <td>[0.0, 0.0, 0.0, 0.0, 0.0, 0.0, 0.0, 0.0, 0.0, ...</td>\n",
       "    </tr>\n",
       "  </tbody>\n",
       "</table>\n",
       "<p>360 rows × 6 columns</p>\n",
       "</div>"
      ],
      "text/plain": [
       "             word gender       alt_word alt_gender  \\\n",
       "0          abbess      f          abbot          m   \n",
       "1     able_seaman      m  able_seawoman          f   \n",
       "2         actress      f          actor          m   \n",
       "3      adulteress      f      adulterer          m   \n",
       "4     adventuress      f     adventurer          m   \n",
       "..            ...    ...            ...        ...   \n",
       "355  working_girl      f    working_boy          m   \n",
       "356       workman      m      workwoman          f   \n",
       "357     yachtsman      m    yachtswoman          f   \n",
       "358       yardman      m      yardwoman          f   \n",
       "359        yeoman      m       yeowoman          f   \n",
       "\n",
       "                                           word_vector  \\\n",
       "0    [-0.055308, -4.1129, 0.13099, -0.66051, -0.074...   \n",
       "1    [0.0, 0.0, 0.0, 0.0, 0.0, 0.0, 0.0, 0.0, 0.0, ...   \n",
       "2    [-0.19423, 1.952, -1.9048, -4.79, -0.63103, 0....   \n",
       "3    [0.15472, -0.64138, -1.5163, -1.8773, 0.92957,...   \n",
       "4    [-0.70933, 0.13014, 0.046859, -3.7926, -0.8595...   \n",
       "..                                                 ...   \n",
       "355  [0.0, 0.0, 0.0, 0.0, 0.0, 0.0, 0.0, 0.0, 0.0, ...   \n",
       "356  [-2.3501, -1.2634, -1.299, -1.1481, 1.0886, -2...   \n",
       "357  [-1.479, -0.47629, 1.3346, -1.8885, -0.28168, ...   \n",
       "358  [0.0, 0.0, 0.0, 0.0, 0.0, 0.0, 0.0, 0.0, 0.0, ...   \n",
       "359  [-2.2688, -1.4787, 0.69975, 0.61817, 0.59453, ...   \n",
       "\n",
       "                                       alt_word_vector  \n",
       "0    [-2.4365, -5.7415, -0.18164, 0.86196, 0.56676,...  \n",
       "1    [0.0, 0.0, 0.0, 0.0, 0.0, 0.0, 0.0, 0.0, 0.0, ...  \n",
       "2    [-2.2196, 0.825, -1.2274, -3.7514, -0.51313, 1...  \n",
       "3    [-0.8278, -1.0626, -0.70223, -1.6146, 1.5188, ...  \n",
       "4    [-0.05648, -0.19939, 1.4233, -4.7611, -1.5092,...  \n",
       "..                                                 ...  \n",
       "355  [0.0, 0.0, 0.0, 0.0, 0.0, 0.0, 0.0, 0.0, 0.0, ...  \n",
       "356  [0.0, 0.0, 0.0, 0.0, 0.0, 0.0, 0.0, 0.0, 0.0, ...  \n",
       "357  [0.0, 0.0, 0.0, 0.0, 0.0, 0.0, 0.0, 0.0, 0.0, ...  \n",
       "358  [0.0, 0.0, 0.0, 0.0, 0.0, 0.0, 0.0, 0.0, 0.0, ...  \n",
       "359  [0.0, 0.0, 0.0, 0.0, 0.0, 0.0, 0.0, 0.0, 0.0, ...  \n",
       "\n",
       "[360 rows x 6 columns]"
      ]
     },
     "execution_count": 16,
     "metadata": {},
     "output_type": "execute_result"
    }
   ],
   "source": [
    "df_spacy = df.copy()\n",
    "df_spacy['word_vector'] = df_spacy['word'].apply(lambda x: nlp(x).vector)\n",
    "df_spacy['alt_word_vector'] = df_spacy['alt_word'].apply(lambda x: nlp(x).vector)\n",
    "df_spacy"
   ]
  },
  {
   "cell_type": "markdown",
   "metadata": {},
   "source": [
    "Count the number of rows where df['word_vector'] or df['alt_word_vector'] has zero vectors"
   ]
  },
  {
   "cell_type": "code",
   "execution_count": 17,
   "metadata": {},
   "outputs": [
    {
     "name": "stdout",
     "output_type": "stream",
     "text": [
      "Number of rows with zero vectors: 253\n"
     ]
    }
   ],
   "source": [
    "num_zero_vectors = ((df_spacy['word_vector'].apply(lambda x: sum(x)) == 0) | (df_spacy['alt_word_vector'].apply(lambda x: sum(x)) == 0)).sum()\n",
    "print(\"Number of rows with zero vectors:\", num_zero_vectors)"
   ]
  },
  {
   "cell_type": "markdown",
   "metadata": {},
   "source": [
    "Initializing transformer model"
   ]
  },
  {
   "cell_type": "code",
   "execution_count": 18,
   "metadata": {},
   "outputs": [],
   "source": [
    "from transformers import BertModel, BertTokenizer\n",
    "\n",
    "\n",
    "tokenizer = BertTokenizer.from_pretrained('bert-base-uncased')\n",
    "model = BertModel.from_pretrained('bert-base-uncased')"
   ]
  },
  {
   "cell_type": "code",
   "execution_count": 19,
   "metadata": {},
   "outputs": [
    {
     "name": "stdout",
     "output_type": "stream",
     "text": [
      "tensor([[[-0.1592,  0.1311,  0.0150,  ..., -0.0561,  0.1057,  0.0700],\n",
      "         [-0.6742, -0.4687, -0.1025,  ..., -0.1672,  0.3564, -0.0935],\n",
      "         [ 0.9349,  0.1159, -0.2163,  ..., -0.0172, -0.8653, -0.5190]]],\n",
      "       grad_fn=<NativeLayerNormBackward0>)\n",
      "torch.Size([1, 3, 768])\n"
     ]
    }
   ],
   "source": [
    "inputs = tokenizer(\"abbess\", return_tensors=\"pt\")\n",
    "outputs = model(**inputs)\n",
    "embedding = outputs.last_hidden_state\n",
    "print(embedding)\n",
    "print(embedding.shape)"
   ]
  },
  {
   "cell_type": "markdown",
   "metadata": {},
   "source": [
    "The word embeddings are then extracted from the transformer model, providing a high-dimensional representation of the words in the dataset. These embeddings are pivotal for the subsequent analysis. Here, the word \"abbess\" is represented by 3 tokens (BERT starts with a [CLS] token and ends with a [SEP] token), each with a 768-dimensional vector."
   ]
  },
  {
   "cell_type": "markdown",
   "metadata": {},
   "source": [
    "Vectorizing the gendered word pairs"
   ]
  },
  {
   "cell_type": "code",
   "execution_count": 20,
   "metadata": {},
   "outputs": [],
   "source": [
    "import torch\n",
    "# Function to get the vector for a word using BERT's last hidden state\n",
    "def get_word_vector(word):\n",
    "    # Tokenize the word and convert to tensor\n",
    "    inputs = tokenizer(word, return_tensors=\"pt\")\n",
    "    # Get the model's output\n",
    "    with torch.no_grad():  # Disable gradient calculation for inference\n",
    "        outputs = model(**inputs)\n",
    "    # Get the last hidden state\n",
    "    last_hidden_state = outputs.last_hidden_state\n",
    "    # We take the mean of the last hidden state to represent the word vector\n",
    "    word_vector = last_hidden_state.mean(dim=1).squeeze().numpy()\n",
    "    return word_vector\n",
    "\n",
    "# Apply the function to each word in the 'word' and 'alt_word' columns\n",
    "df['word_vector'] = df['word'].apply(get_word_vector)\n",
    "df['alt_word_vector'] = df['alt_word'].apply(get_word_vector)"
   ]
  },
  {
   "cell_type": "code",
   "execution_count": 21,
   "metadata": {},
   "outputs": [
    {
     "data": {
      "text/html": [
       "<div>\n",
       "<style scoped>\n",
       "    .dataframe tbody tr th:only-of-type {\n",
       "        vertical-align: middle;\n",
       "    }\n",
       "\n",
       "    .dataframe tbody tr th {\n",
       "        vertical-align: top;\n",
       "    }\n",
       "\n",
       "    .dataframe thead th {\n",
       "        text-align: right;\n",
       "    }\n",
       "</style>\n",
       "<table border=\"1\" class=\"dataframe\">\n",
       "  <thead>\n",
       "    <tr style=\"text-align: right;\">\n",
       "      <th></th>\n",
       "      <th>word</th>\n",
       "      <th>gender</th>\n",
       "      <th>alt_word</th>\n",
       "      <th>alt_gender</th>\n",
       "      <th>word_vector</th>\n",
       "      <th>alt_word_vector</th>\n",
       "    </tr>\n",
       "  </thead>\n",
       "  <tbody>\n",
       "    <tr>\n",
       "      <th>0</th>\n",
       "      <td>abbess</td>\n",
       "      <td>f</td>\n",
       "      <td>abbot</td>\n",
       "      <td>m</td>\n",
       "      <td>[0.03386249, -0.073890425, -0.10126286, -0.018...</td>\n",
       "      <td>[-0.077743076, -0.047490407, -0.25444508, 0.09...</td>\n",
       "    </tr>\n",
       "    <tr>\n",
       "      <th>1</th>\n",
       "      <td>able_seaman</td>\n",
       "      <td>m</td>\n",
       "      <td>able_seawoman</td>\n",
       "      <td>f</td>\n",
       "      <td>[-0.03936876, -0.09774977, 0.19937399, 0.09556...</td>\n",
       "      <td>[0.12963812, -0.35763657, 0.23135026, 0.238661...</td>\n",
       "    </tr>\n",
       "    <tr>\n",
       "      <th>2</th>\n",
       "      <td>actress</td>\n",
       "      <td>f</td>\n",
       "      <td>actor</td>\n",
       "      <td>m</td>\n",
       "      <td>[0.25073627, -0.0036050454, -0.24463184, -0.15...</td>\n",
       "      <td>[0.18325412, 0.16643943, -0.5841664, -0.180490...</td>\n",
       "    </tr>\n",
       "    <tr>\n",
       "      <th>3</th>\n",
       "      <td>adulteress</td>\n",
       "      <td>f</td>\n",
       "      <td>adulterer</td>\n",
       "      <td>m</td>\n",
       "      <td>[0.109185375, 0.03621303, -0.68881613, -0.0334...</td>\n",
       "      <td>[-0.33493897, -0.40118265, -0.23603559, -0.325...</td>\n",
       "    </tr>\n",
       "    <tr>\n",
       "      <th>4</th>\n",
       "      <td>adventuress</td>\n",
       "      <td>f</td>\n",
       "      <td>adventurer</td>\n",
       "      <td>m</td>\n",
       "      <td>[-0.20856036, -0.3213589, -0.19327125, -0.1711...</td>\n",
       "      <td>[0.20072049, -0.028415183, -0.11743646, 0.0113...</td>\n",
       "    </tr>\n",
       "  </tbody>\n",
       "</table>\n",
       "</div>"
      ],
      "text/plain": [
       "          word gender       alt_word alt_gender  \\\n",
       "0       abbess      f          abbot          m   \n",
       "1  able_seaman      m  able_seawoman          f   \n",
       "2      actress      f          actor          m   \n",
       "3   adulteress      f      adulterer          m   \n",
       "4  adventuress      f     adventurer          m   \n",
       "\n",
       "                                         word_vector  \\\n",
       "0  [0.03386249, -0.073890425, -0.10126286, -0.018...   \n",
       "1  [-0.03936876, -0.09774977, 0.19937399, 0.09556...   \n",
       "2  [0.25073627, -0.0036050454, -0.24463184, -0.15...   \n",
       "3  [0.109185375, 0.03621303, -0.68881613, -0.0334...   \n",
       "4  [-0.20856036, -0.3213589, -0.19327125, -0.1711...   \n",
       "\n",
       "                                     alt_word_vector  \n",
       "0  [-0.077743076, -0.047490407, -0.25444508, 0.09...  \n",
       "1  [0.12963812, -0.35763657, 0.23135026, 0.238661...  \n",
       "2  [0.18325412, 0.16643943, -0.5841664, -0.180490...  \n",
       "3  [-0.33493897, -0.40118265, -0.23603559, -0.325...  \n",
       "4  [0.20072049, -0.028415183, -0.11743646, 0.0113...  "
      ]
     },
     "execution_count": 21,
     "metadata": {},
     "output_type": "execute_result"
    }
   ],
   "source": [
    "df.head()"
   ]
  },
  {
   "cell_type": "code",
   "execution_count": 28,
   "metadata": {},
   "outputs": [
    {
     "name": "stdout",
     "output_type": "stream",
     "text": [
      "Number of rows with zero vectors: 0\n"
     ]
    }
   ],
   "source": [
    "num_zero_vectors = ((df['word_vector'].apply(lambda x: sum(x)) == 0) | (df['alt_word_vector'].apply(lambda x: sum(x)) == 0)).sum()\n",
    "print(\"Number of rows with zero vectors:\", num_zero_vectors)"
   ]
  },
  {
   "cell_type": "markdown",
   "metadata": {},
   "source": [
    "Calculating the cosine and Euclidean distances between the word embeddings of the words"
   ]
  },
  {
   "cell_type": "code",
   "execution_count": 22,
   "metadata": {},
   "outputs": [
    {
     "data": {
      "text/html": [
       "<div>\n",
       "<style scoped>\n",
       "    .dataframe tbody tr th:only-of-type {\n",
       "        vertical-align: middle;\n",
       "    }\n",
       "\n",
       "    .dataframe tbody tr th {\n",
       "        vertical-align: top;\n",
       "    }\n",
       "\n",
       "    .dataframe thead th {\n",
       "        text-align: right;\n",
       "    }\n",
       "</style>\n",
       "<table border=\"1\" class=\"dataframe\">\n",
       "  <thead>\n",
       "    <tr style=\"text-align: right;\">\n",
       "      <th></th>\n",
       "      <th>word</th>\n",
       "      <th>gender</th>\n",
       "      <th>alt_word</th>\n",
       "      <th>alt_gender</th>\n",
       "      <th>word_vector</th>\n",
       "      <th>alt_word_vector</th>\n",
       "      <th>cosine_distance</th>\n",
       "      <th>euclidean_distance</th>\n",
       "    </tr>\n",
       "  </thead>\n",
       "  <tbody>\n",
       "    <tr>\n",
       "      <th>0</th>\n",
       "      <td>abbess</td>\n",
       "      <td>f</td>\n",
       "      <td>abbot</td>\n",
       "      <td>m</td>\n",
       "      <td>[0.03386249, -0.073890425, -0.10126286, -0.018...</td>\n",
       "      <td>[-0.077743076, -0.047490407, -0.25444508, 0.09...</td>\n",
       "      <td>0.099397</td>\n",
       "      <td>3.892932</td>\n",
       "    </tr>\n",
       "    <tr>\n",
       "      <th>1</th>\n",
       "      <td>able_seaman</td>\n",
       "      <td>m</td>\n",
       "      <td>able_seawoman</td>\n",
       "      <td>f</td>\n",
       "      <td>[-0.03936876, -0.09774977, 0.19937399, 0.09556...</td>\n",
       "      <td>[0.12963812, -0.35763657, 0.23135026, 0.238661...</td>\n",
       "      <td>0.158315</td>\n",
       "      <td>4.971286</td>\n",
       "    </tr>\n",
       "    <tr>\n",
       "      <th>2</th>\n",
       "      <td>actress</td>\n",
       "      <td>f</td>\n",
       "      <td>actor</td>\n",
       "      <td>m</td>\n",
       "      <td>[0.25073627, -0.0036050454, -0.24463184, -0.15...</td>\n",
       "      <td>[0.18325412, 0.16643943, -0.5841664, -0.180490...</td>\n",
       "      <td>0.032879</td>\n",
       "      <td>2.622550</td>\n",
       "    </tr>\n",
       "    <tr>\n",
       "      <th>3</th>\n",
       "      <td>adulteress</td>\n",
       "      <td>f</td>\n",
       "      <td>adulterer</td>\n",
       "      <td>m</td>\n",
       "      <td>[0.109185375, 0.03621303, -0.68881613, -0.0334...</td>\n",
       "      <td>[-0.33493897, -0.40118265, -0.23603559, -0.325...</td>\n",
       "      <td>0.239453</td>\n",
       "      <td>6.754234</td>\n",
       "    </tr>\n",
       "    <tr>\n",
       "      <th>4</th>\n",
       "      <td>adventuress</td>\n",
       "      <td>f</td>\n",
       "      <td>adventurer</td>\n",
       "      <td>m</td>\n",
       "      <td>[-0.20856036, -0.3213589, -0.19327125, -0.1711...</td>\n",
       "      <td>[0.20072049, -0.028415183, -0.11743646, 0.0113...</td>\n",
       "      <td>0.221328</td>\n",
       "      <td>5.865451</td>\n",
       "    </tr>\n",
       "  </tbody>\n",
       "</table>\n",
       "</div>"
      ],
      "text/plain": [
       "          word gender       alt_word alt_gender  \\\n",
       "0       abbess      f          abbot          m   \n",
       "1  able_seaman      m  able_seawoman          f   \n",
       "2      actress      f          actor          m   \n",
       "3   adulteress      f      adulterer          m   \n",
       "4  adventuress      f     adventurer          m   \n",
       "\n",
       "                                         word_vector  \\\n",
       "0  [0.03386249, -0.073890425, -0.10126286, -0.018...   \n",
       "1  [-0.03936876, -0.09774977, 0.19937399, 0.09556...   \n",
       "2  [0.25073627, -0.0036050454, -0.24463184, -0.15...   \n",
       "3  [0.109185375, 0.03621303, -0.68881613, -0.0334...   \n",
       "4  [-0.20856036, -0.3213589, -0.19327125, -0.1711...   \n",
       "\n",
       "                                     alt_word_vector  cosine_distance  \\\n",
       "0  [-0.077743076, -0.047490407, -0.25444508, 0.09...         0.099397   \n",
       "1  [0.12963812, -0.35763657, 0.23135026, 0.238661...         0.158315   \n",
       "2  [0.18325412, 0.16643943, -0.5841664, -0.180490...         0.032879   \n",
       "3  [-0.33493897, -0.40118265, -0.23603559, -0.325...         0.239453   \n",
       "4  [0.20072049, -0.028415183, -0.11743646, 0.0113...         0.221328   \n",
       "\n",
       "   euclidean_distance  \n",
       "0            3.892932  \n",
       "1            4.971286  \n",
       "2            2.622550  \n",
       "3            6.754234  \n",
       "4            5.865451  "
      ]
     },
     "execution_count": 22,
     "metadata": {},
     "output_type": "execute_result"
    }
   ],
   "source": [
    "from scipy.spatial.distance import cosine, euclidean\n",
    "\n",
    "# Function to calculate semantic distances\n",
    "def calculate_distances(row):\n",
    "    word_vector = row['word_vector']\n",
    "    alt_word_vector = row['alt_word_vector']\n",
    "    \n",
    "    # Calculate cosine distance (1 - cosine similarity)\n",
    "    cosine_dist = cosine(word_vector, alt_word_vector)\n",
    "    \n",
    "    # Calculate Euclidean distance\n",
    "    euclidean_dist = euclidean(word_vector, alt_word_vector)\n",
    "    \n",
    "    return pd.Series([cosine_dist, euclidean_dist], index=['cosine_distance', 'euclidean_distance'])\n",
    "\n",
    "# Apply the function to each row in the dataframe\n",
    "df[['cosine_distance', 'euclidean_distance']] = df.apply(calculate_distances, axis=1)\n",
    "\n",
    "df.head(5)\n"
   ]
  },
  {
   "cell_type": "markdown",
   "metadata": {},
   "source": [
    "With that, the dataframe is now ready for analysis, with the words fully paired with their gender opposites and the cosine and Euclidean distances calculated for each pair. This cleanup process left us with 107 pairs of gender-opposite word pairs to work with for our analysis. "
   ]
  },
  {
   "cell_type": "markdown",
   "metadata": {},
   "source": [
    "## Statistical Analysis"
   ]
  },
  {
   "cell_type": "markdown",
   "metadata": {},
   "source": [
    "First, we will examine the distribution of cosine distances"
   ]
  },
  {
   "cell_type": "code",
   "execution_count": 23,
   "metadata": {},
   "outputs": [
    {
     "data": {
      "image/png": "[encoded data removed]",
      "text/plain": [
       "<Figure size 1000x800 with 2 Axes>"
      ]
     },
     "metadata": {},
     "output_type": "display_data"
    }
   ],
   "source": [
    "fig, (ax1, ax2) = plt.subplots(2, 1, figsize=(10, 8))\n",
    "\n",
    "# Subplot 1: Histogram\n",
    "sns.histplot(df['cosine_distance'], kde=True, ax=ax1)\n",
    "ax1.set_title('Distribution of Cosine Distances')\n",
    "ax1.set_xlabel('Cosine Distance')\n",
    "ax1.set_ylabel('Frequency')\n",
    "\n",
    "# Subplot 2: Box plot\n",
    "sns.boxplot(x=df['cosine_distance'], ax=ax2)\n",
    "ax2.set_title('Box Plot of Cosine Distances')\n",
    "ax2.set_xlabel('Cosine Distance')\n",
    "\n",
    "# Calculate mean, median, and std\n",
    "mean = df['cosine_distance'].mean()\n",
    "median = df['cosine_distance'].median()\n",
    "std = df['cosine_distance'].std()\n",
    "\n",
    "# Position the annotations on the plot. Adjust the y-coordinates as needed.\n",
    "ax2.text(0.97, 0.95, f'Mean: {mean:.2f}', transform=ax2.transAxes, ha='right')\n",
    "ax2.text(0.97, 0.90, f'Median: {median:.2f}', transform=ax2.transAxes, ha='right')\n",
    "ax2.text(0.97, 0.85, f'Std: {std:.2f}', transform=ax2.transAxes, ha='right')\n",
    "\n",
    "plt.tight_layout()\n",
    "plt.show()"
   ]
  },
  {
   "cell_type": "markdown",
   "metadata": {},
   "source": [
    "**Metric Explanation**: \n",
    "\n",
    "Cosine distance, calculated as 1−cosine similarity, ranges from 0 to 2. A cosine distance of 0 means the vectors are perfectly aligned (identical), and a distance of 2 indicates they are exactly opposite. The observed range suggests minimal angular differences between the vectors."
   ]
  },
  {
   "cell_type": "markdown",
   "metadata": {},
   "source": [
    "Similarly, we will examine the distribution of distances"
   ]
  },
  {
   "cell_type": "code",
   "execution_count": 24,
   "metadata": {},
   "outputs": [
    {
     "data": {
      "image/png": "[encoded data removed]",
      "text/plain": [
       "<Figure size 1000x800 with 2 Axes>"
      ]
     },
     "metadata": {},
     "output_type": "display_data"
    }
   ],
   "source": [
    "fig, (ax1, ax2) = plt.subplots(2, 1, figsize=(10, 8))\n",
    "\n",
    "# Subplot 1: Histogram\n",
    "sns.histplot(df['euclidean_distance'], kde=True, ax=ax1)\n",
    "ax1.set_title('Distribution of Euclidean Distances')\n",
    "ax1.set_xlabel('Euclidean Distance')\n",
    "ax1.set_ylabel('Frequency')\n",
    "\n",
    "# Subplot 2: Box plot\n",
    "sns.boxplot(x=df['euclidean_distance'], ax=ax2)\n",
    "ax2.set_title('Box Plot of Euclidean Distances')\n",
    "ax2.set_xlabel('Euclidean Distance')\n",
    "\n",
    "# Calculate mean, median, and std\n",
    "mean = df['euclidean_distance'].mean()\n",
    "median = df['euclidean_distance'].median()\n",
    "std = df['euclidean_distance'].std()\n",
    "\n",
    "# Position the annotations on the plot. Adjust the y-coordinates as needed.\n",
    "ax2.text(0.97, 0.95, f'Mean: {mean:.2f}', transform=ax2.transAxes, ha='right')\n",
    "ax2.text(0.97, 0.90, f'Median: {median:.2f}', transform=ax2.transAxes, ha='right')\n",
    "ax2.text(0.97, 0.85, f'Std: {std:.2f}', transform=ax2.transAxes, ha='right')\n",
    "\n",
    "plt.tight_layout()\n",
    "plt.show()\n"
   ]
  },
  {
   "cell_type": "markdown",
   "metadata": {},
   "source": [
    "**Metric Explanation**: \n",
    "\n",
    "Euclidean distance measures the \"straight-line\" distance between vectors in the embedding space, with values that can theoretically extend from 0 to infinity. The specific interval observed here underlines a controlled variability."
   ]
  },
  {
   "cell_type": "markdown",
   "metadata": {},
   "source": [
    "### Normality Test of the Distance Distributions"
   ]
  },
  {
   "cell_type": "code",
   "execution_count": 25,
   "metadata": {},
   "outputs": [
    {
     "name": "stdout",
     "output_type": "stream",
     "text": [
      "Shapiro-Wilk Test Statistic(W) for Euclidean Distance: 0.9695868222905087\n",
      "p-value for Euclidean Distance: 7.603798909120064e-07\n",
      "Shapiro-Wilk Test Statistic(W) for Cosine Distance: 0.9233715068574464\n",
      "p-value for Cosine Distance: 1.3117954498545846e-12\n"
     ]
    }
   ],
   "source": [
    "from scipy.stats import shapiro\n",
    "\n",
    "# Perform Shapiro-Wilk test for euclidean_distance\n",
    "statistic_euclidean, p_value_euclidean = shapiro(df['euclidean_distance'])\n",
    "\n",
    "# Print the test statistic and p-value for euclidean_distance\n",
    "print(\"Shapiro-Wilk Test Statistic(W) for Euclidean Distance:\", statistic_euclidean)\n",
    "print(\"p-value for Euclidean Distance:\", p_value_euclidean)\n",
    "\n",
    "# Perform Shapiro-Wilk test for cosine_distance\n",
    "statistic_cosine, p_value_cosine = shapiro(df['cosine_distance'])\n",
    "\n",
    "# Print the test statistic and p-value for cosine_distance\n",
    "print(\"Shapiro-Wilk Test Statistic(W) for Cosine Distance:\", statistic_cosine)\n",
    "print(\"p-value for Cosine Distance:\", p_value_cosine)"
   ]
  },
  {
   "cell_type": "markdown",
   "metadata": {},
   "source": [
    "- **Results**:\n",
    "  - **Euclidean Distance**:\n",
    "    - **Statistic (W)**: 0.9696\n",
    "    - **P-value**: Extremely small, close to 0\n",
    "  - **Cosine Distance**:\n",
    "    - **Statistic (W)**: 0.9234\n",
    "    - **P-value**: Even smaller than that for Euclidean distance\n",
    "\n",
    "- **Interpretation**:\n",
    "  - **Deviation from Normality**: Both sets of distances significantly deviate from a normal distribution.\n",
    "  - **Statistical Significance**: P-values are well below the conventional alpha threshold of 0.05, providing strong evidence to reject the null hypothesis of normal distribution.\n",
    "\n",
    "- **Implications**:\n",
    "  - **Need for Non-Parametric Methods**: The findings necessitate the use of non-parametric statistical techniques that do not assume normal distribution in subsequent analyses due to the non-normality of the data."
   ]
  },
  {
   "cell_type": "markdown",
   "metadata": {},
   "source": [
    "### Methodology: Bootstrap Resampling\n",
    "\n",
    "- **Choice of Method**: Bootstrap resampling was selected to test the hypothesis, valued for its ability to elucidate complex confidence intervals for mean cosine and Euclidean distances.\n",
    "\n",
    "- **Purpose**:\n",
    "  - **Insights**: Provides insights into whether there is a consistent pattern in the directional and magnitude differences between word embeddings.\n",
    "  \n",
    "- **Interpretation of Results**:\n",
    "  - **Smaller Confidence Intervals**: Indicate a higher level of consistency in the distances between gender-opposite word pairs representing the same concept.\n",
    "  - **Larger Confidence Intervals**: Suggest less consistency in these distances."
   ]
  },
  {
   "cell_type": "code",
   "execution_count": 26,
   "metadata": {},
   "outputs": [
    {
     "name": "stdout",
     "output_type": "stream",
     "text": [
      "95% confidence interval for the mean cosine distance: [0.16636836 0.19279751]\n",
      "95% confidence interval for the mean Euclidean distance: [4.85228783 5.279827  ]\n"
     ]
    }
   ],
   "source": [
    "# Define the number of bootstrap samples to draw\n",
    "n_bootstraps = 10000\n",
    "\n",
    "# Function to draw bootstrap samples and calculate the mean of the distances\n",
    "def bootstrap_mean(sample, n_bootstraps):\n",
    "    boot_means = []\n",
    "    for _ in range(n_bootstraps):\n",
    "        # Sample with replacement from the given sample\n",
    "        boot_sample = np.random.choice(sample, size=len(sample), replace=True)\n",
    "        # Calculate the mean of this bootstrap sample\n",
    "        boot_means.append(np.mean(boot_sample))\n",
    "    return boot_means\n",
    "\n",
    "# Bootstrap for cosine distance\n",
    "cosine_means = bootstrap_mean(df['cosine_distance'], n_bootstraps)\n",
    "\n",
    "# Bootstrap for Euclidean distance\n",
    "euclidean_means = bootstrap_mean(df['euclidean_distance'], n_bootstraps)\n",
    "\n",
    "# Calculate the 95% confidence intervals for each distribution of bootstrap means\n",
    "cosine_conf_int = np.percentile(cosine_means, [2.5, 97.5])\n",
    "euclidean_conf_int = np.percentile(euclidean_means, [2.5, 97.5])\n",
    "\n",
    "# Output the results\n",
    "print(\"95% confidence interval for the mean cosine distance:\", cosine_conf_int)\n",
    "print(\"95% confidence interval for the mean Euclidean distance:\", euclidean_conf_int)\n"
   ]
  },
  {
   "cell_type": "markdown",
   "metadata": {},
   "source": [
    "- **Bootstrap Methodology**: This approach is leveraged for its advantage of not assuming an underlying distribution of data, which is critical for generating reliable 95% confidence intervals for the distance metrics used in this study.\n",
    "\n",
    "- **Cosine Distance Analysis**:\n",
    "  - **Range**: 0.166 to 0.193, indicating a narrow confidence interval.\n",
    "  - **Implication**: Demonstrates a high level of uniformity in the directional relationships between word pairs representing the same concept but different genders, underpinning the consistent directional patterns in gender representation within word embeddings.\n",
    "  - **Supports Hypothesis**: Strengthens the hypothesis that linguistic representations of gender exhibit consistent directional consistencies across different contexts.\n",
    "\n",
    "- **Euclidean Distance Analysis**:\n",
    "  - **Range**: 4.848 to 5.275, showing notable consistency in the magnitude of differences.\n",
    "  - **Implication**: Indicates a stable degree of variability in how gender is represented across different concepts, suggesting that the magnitudes of differences between vectors of gendered word pairs are not only consistent but also confined within a predictable range.\n",
    "  - **Context**: This metric's behavior in the observed interval highlights its effectiveness in capturing the magnitude of the differences without being influenced by the directionality, as opposed to cosine distance.\n",
    "\n",
    "- **Conclusion**:\n",
    "  - **Summary of Findings**: The computed confidence intervals for both cosine and Euclidean distances confirm that there is a stable and consistent pattern in how genders are represented in word embeddings, evident in both directional alignment and magnitude of differences.\n",
    "  - **Further Significance**: These results underscore the systematic nature of gender representation within language model embeddings, suggesting the need for further investigation into their implications for natural language understanding and generation, especially considering the nuanced ways genders are differentiated linguistically.\n",
    "\n",
    "\n",
    "----"
   ]
  },
  {
   "cell_type": "markdown",
   "metadata": {},
   "source": [
    "## Limitations and Future Directions\n",
    "\n",
    "### Arbitrary Nature of \"Small Enough\" Intervals\n",
    "While the confidence intervals suggest consistency, the criteria for what constitutes a \"small enough\" interval to denote true consistency remain arbitrary. This introduces a limitation in the conclusiveness of our results. To address this, future analyses could compare these intervals against those obtained from word pairs exhibiting semantic differences beyond gender, as well as from words unrelated to gender. Establishing such a baseline or control group would provide a clearer standard for what \"consistency\" entails within the context of semantic embeddings.\n",
    "\n",
    "### Semantic Analysis Through Contextual Transformers\n",
    "Further, the study extends its analysis by utilizing the advanced capabilities of transformers to manipulate and analyze sentences where only the gendered terms are swapped. This approach leverages the contextual sensitivity of transformer models to assess how swapping gendered terms in sentences or paragraphs affects the semantic structure. By generating content based on diverse literature materials such as short stories or news articles, we can delve deeper into the nuanced differences brought about by gendered language.\n",
    "\n",
    "### Expanding the Gender Pair Dataset\n",
    "To broaden the scope of this study, there is a compelling case for expanding the gender pair dataset to include gender-neutral variants of the same concepts. For example, incorporating terms like 'monarch' alongside 'king' and 'queen' would allow an exploration into not only the semantic differences between male and female terms but also those pertaining to gender-neutral terms. Such an expansion would enrich our understanding of gender representation across a wider spectrum of linguistic contexts, potentially uncovering more complex patterns of gender semantics in language models.\n",
    "\n",
    "---"
   ]
  },
  {
   "cell_type": "markdown",
   "metadata": {},
   "source": [
    "## Conclusion\n",
    "\n",
    "This project has illuminated significant aspects of gender representation in semantic embeddings, providing a foundational analysis that underscores the consistency of gender portrayals across different word pairs. By applying advanced analytical methods such as bootstrap subsampling and leveraging the capabilities of transformer models, we have paved the way for a broader initiative aimed at studying and safeguarding against gender biases in the further development of AI models. Our findings highlight the potential for these technologies to either perpetuate or mitigate biases, underscoring the importance of continued vigilance and proactive measures in AI research. This study not only contributes to our understanding of gender semantics in language models but also sets the stage for more comprehensive efforts to ensure that AI advancements are equitable and inclusive. "
   ]
  }
 ],
 "metadata": {
  "kernelspec": {
   "display_name": "base",
   "language": "python",
   "name": "python3"
  },
  "language_info": {
   "codemirror_mode": {
    "name": "ipython",
    "version": 3
   },
   "file_extension": ".py",
   "mimetype": "text/x-python",
   "name": "python",
   "nbconvert_exporter": "python",
   "pygments_lexer": "ipython3",
   "version": "3.12.2"
  }
 },
 "nbformat": 4,
 "nbformat_minor": 2
}
